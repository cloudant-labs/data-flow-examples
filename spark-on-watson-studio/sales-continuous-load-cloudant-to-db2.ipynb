{
 "cells": [
  {
   "cell_type": "markdown",
   "metadata": {},
   "source": [
    "# Load filtered sales data from Cloudant to Db2 in Spark\n",
    "\n",
    "This notebook uses Spark Streaming to load Cloudant documents into Apache Spark, and then save the Spark DataFrame into a Db2 Warehouse table.\n",
    "\n",
    "## Before you begin \n",
    "\n",
    "These are the services required in your IBM Bluemix account:\n",
    "\n",
    "1. [Apache Spark](https://console.bluemix.net/catalog/services/apache-spark)\n",
    "2. [Db2 Warehouse on Cloud](https://console.bluemix.net/catalog/services/dashdb)\n",
    "\n",
    "Watch the [Getting Started on IBM Cloud](https://developer.ibm.com/clouddataservices/docs/spark/get-started/get-started-in-bluemix/) video to add the IBM Analytics for Apache Spark service to your IBM Cloud account.\n",
    "\n",
    "Note: For `Db2 Warehouse on Cloud` service, you'll need to locate and copy the service credentials.\n",
    "These will be required for saving the Spark data into a Db2 Warehouse table."
   ]
  },
  {
   "cell_type": "markdown",
   "metadata": {},
   "source": [
    "The cell below will set up the custom Db2 dialect (with proper string type mapping):"
   ]
  },
  {
   "cell_type": "code",
   "execution_count": null,
   "metadata": {},
   "outputs": [],
   "source": [
    "import org.apache.spark.sql.jdbc._\n",
    "import org.apache.spark.sql.types.{StringType, BooleanType, DataType}\n",
    "\n",
    "object db2CustomDialect extends JdbcDialect {\n",
    "    override def canHandle(url: String): Boolean = url.startsWith(\"jdbc:db2\")\n",
    "    override def getJDBCType(dt: DataType): Option[JdbcType] = dt match {\n",
    "            case StringType => Option(JdbcType(\"VARCHAR(50)\", java.sql.Types.VARCHAR))\n",
    "            case BooleanType => Option(JdbcType(\"CHAR(1)\", java.sql.Types.CHAR))\n",
    "            case _ => None\n",
    "    }\n",
    "}\n",
    "JdbcDialects.registerDialect(db2CustomDialect)"
   ]
  },
  {
   "cell_type": "markdown",
   "metadata": {},
   "source": [
    "The cell below will use Spark Streaming to continuously load Cloudant documents from the `_changes` endpoint:"
   ]
  },
  {
   "cell_type": "code",
   "execution_count": null,
   "metadata": {},
   "outputs": [],
   "source": [
    "import java.util.Properties\n",
    "\n",
    "import play.api.libs.json._\n",
    "\n",
    "import org.apache.spark.rdd.RDD\n",
    "import org.apache.spark.SparkConf\n",
    "import org.apache.spark.sql.SparkSession\n",
    "import org.apache.spark.streaming.{Seconds, StreamingContext}\n",
    "\n",
    "import org.apache.bahir.cloudant.CloudantReceiver\n",
    "\n",
    "val spark = SparkSession.builder().appName(\"Load Cloudant docs into Spark\").getOrCreate()\n",
    "\n",
    "// Create the context with a 10 second batch size\n",
    "val ssc = new StreamingContext(spark.sparkContext, Seconds(10))  \n",
    "\n",
    "val changes = ssc.receiverStream(new CloudantReceiver(spark.sparkContext.getConf, Map(\n",
    "  \"cloudant.host\" -> \"examples.cloudant.com\",\n",
    "  \"database\" -> \"sales\")))\n",
    "\n",
    "// Replace DB2_JDBC_URL, user, and password with fields jdbcurl, username, and password from your Db2 Warehouse service credentials\n",
    "val props = new Properties\n",
    "props.setProperty(\"user\", \"username\")\n",
    "props.setProperty(\"password\", \"password\")\n",
    "props.setProperty(\"driver\", \"com.ibm.db2.jcc.DB2Driver\")\n",
    "\n",
    "val DB2_JDBC_URL = \"jdbc:db2://***:50000/BLUDB\"\n",
    "\n",
    "changes.foreachRDD((rdd: RDD[String]) => {\n",
    "  val df = spark.read.json(rdd)\n",
    "  if (df.schema.nonEmpty) {\n",
    "    // Select only _id, _rev, amount, month, and rep fields from 'sales' DataFrame\n",
    "    val salesFilteredDF = df.selectExpr(\n",
    "        \"_id\",\n",
    "        \"_rev\",\n",
    "        \"amount\",\n",
    "        \"month\",\n",
    "        \"rep\"\n",
    "    )\n",
    "    // Save Spark DataFrame to Db2 warehouse\n",
    "    salesFilteredDF.write.jdbc(DB2_JDBC_URL, \"sales_filtered\", props)\n",
    "  }\n",
    "})\n",
    "\n",
    "ssc.start\n",
    "// Run streaming for 20 seconds or until terminated by user\n",
    "ssc.awaitTerminationOrTimeout(20000L)"
   ]
  },
  {
   "cell_type": "markdown",
   "metadata": {},
   "source": [
    "### View the table in the Db2 Warehouse console\n",
    "1. In the Bluemix dashboard, go to your Db2 Warehouse on Cloud service.\n",
    "2. On the **Manage** tab, click the **Open** button.\n",
    "3. In the DB2 console, click on the **Explore** tab and select the schema that matches your username.\n",
    "4. Select the `SALES_FILTERED` table under the selected schema.\n",
    "5. Click **View Data** and you should see a list of documents."
   ]
  }
 ],
 "metadata": {
  "kernelspec": {
   "display_name": "Scala 2.11 with Spark 2.1",
   "language": "scala",
   "name": "scala-spark21"
  },
  "language_info": {
   "codemirror_mode": "text/x-scala",
   "file_extension": ".scala",
   "mimetype": "text/x-scala",
   "name": "scala",
   "pygments_lexer": "scala",
   "version": "2.11.8"
  }
 },
 "nbformat": 4,
 "nbformat_minor": 1
}
