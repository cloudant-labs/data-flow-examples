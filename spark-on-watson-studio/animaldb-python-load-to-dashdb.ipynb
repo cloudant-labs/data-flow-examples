{
 "cells": [
  {
   "cell_type": "code",
   "execution_count": 1,
   "metadata": {},
   "outputs": [
    {
     "data": {
      "text/plain": [
       "DataFrame[_id: string, _rev: string, class: string, diet: string, latin_name: string, max_length: double, max_weight: double, min_length: double, min_weight: double, sortfield: string, wiki_page: string]"
      ]
     },
     "execution_count": 1,
     "metadata": {},
     "output_type": "execute_result"
    }
   ],
   "source": [
    "cloudantdata = spark.read.format(\"org.apache.bahir.cloudant\")\\\n",
    "       .option(\"cloudant.host\",\"examples.cloudant.com\")\\\n",
    "       .load(\"animaldb\")\n",
    "cloudantdata.cache()"
   ]
  },
  {
   "cell_type": "code",
   "execution_count": 2,
   "metadata": {},
   "outputs": [
    {
     "name": "stdout",
     "output_type": "stream",
     "text": [
      "root\n",
      " |-- _id: string (nullable = true)\n",
      " |-- _rev: string (nullable = true)\n",
      " |-- class: string (nullable = true)\n",
      " |-- diet: string (nullable = true)\n",
      " |-- latin_name: string (nullable = true)\n",
      " |-- max_length: double (nullable = true)\n",
      " |-- max_weight: double (nullable = true)\n",
      " |-- min_length: double (nullable = true)\n",
      " |-- min_weight: double (nullable = true)\n",
      " |-- sortfield: string (nullable = true)\n",
      " |-- wiki_page: string (nullable = true)\n",
      "\n"
     ]
    }
   ],
   "source": [
    "cloudantdata.printSchema()"
   ]
  },
  {
   "cell_type": "code",
   "execution_count": 6,
   "metadata": {},
   "outputs": [],
   "source": [
    "properties = {\n",
    "   'user': 'username',\n",
    "   'password': 'password',\n",
    "   'driver': 'com.ibm.db2.jcc.DB2Driver'\n",
    "}\n",
    "\n",
    "db2_jdbc_url = 'jdbc:db2://***:50000/BLUDB'\n",
    "\n",
    "# Save Spark DataFrame to DB2 Warehouse\n",
    "cloudantdata.write.jdbc(db2_jdbc_url, 'animaldb', properties=properties)"
   ]
  }
 ],
 "metadata": {
  "kernelspec": {
   "display_name": "Python 2 with Spark 2.1",
   "language": "python",
   "name": "python2-spark21"
  },
  "language_info": {
   "codemirror_mode": {
    "name": "ipython",
    "version": 2
   },
   "file_extension": ".py",
   "mimetype": "text/x-python",
   "name": "python",
   "nbconvert_exporter": "python",
   "pygments_lexer": "ipython2",
   "version": "2.7.11"
  }
 },
 "nbformat": 4,
 "nbformat_minor": 1
}
